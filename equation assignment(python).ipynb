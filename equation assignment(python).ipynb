{
 "cells": [
  {
   "cell_type": "code",
   "execution_count": 2,
   "metadata": {},
   "outputs": [
    {
     "name": "stdout",
     "output_type": "stream",
     "text": [
      "Enter value of Mass 45\n",
      "Enter value of velocity9\n",
      "Momentum  405\n"
     ]
    }
   ],
   "source": [
    "#MOMEMTUM\n",
    "m = int(input(\"Enter value of Mass\"))\n",
    "v = int(input(\"Enter value of velocity\"))\n",
    "p = m*v\n",
    "print(\"Momentum \",p)\n"
   ]
  },
  {
   "cell_type": "code",
   "execution_count": 4,
   "metadata": {},
   "outputs": [
    {
     "name": "stdout",
     "output_type": "stream",
     "text": [
      "Enter Length 20\n",
      "Area of square:  160000\n"
     ]
    }
   ],
   "source": [
    "#AREA OF SQUARE\n",
    "import math\n",
    "h = int(input(\"Enter Length\"))\n",
    "area = int(math.pow(h,4))\n",
    "print(\"Area of square: \",area)\n"
   ]
  },
  {
   "cell_type": "code",
   "execution_count": 5,
   "metadata": {},
   "outputs": [
    {
     "name": "stdout",
     "output_type": "stream",
     "text": [
      "Enter area of circle  85\n",
      "Radius of Circle 5.201233756591464\n"
     ]
    }
   ],
   "source": [
    "#AREA OF CIRCLE\n",
    "import math\n",
    "k = int(input(\"Enter area of circle \"))\n",
    "l = k/3.142\n",
    "r = math.sqrt(l)\n",
    "print(\"Radius of Circle\",r)"
   ]
  },
  {
   "cell_type": "code",
   "execution_count": 6,
   "metadata": {},
   "outputs": [
    {
     "name": "stdout",
     "output_type": "stream",
     "text": [
      "Enter coefficient of x² value: \n",
      "6\n",
      "Enter coefficient of x value:\n",
      "3\n",
      "Enter constant value: 9\n",
      "Equation = 6x² + 3x + 9\n",
      "Answer 1:  (-9+43.16248370981448j)\n",
      "Answer 2:  (-9-43.16248370981448j)\n"
     ]
    }
   ],
   "source": [
    "#QUADRATIC EQUATION\n",
    "import cmath\n",
    "d = 178\n",
    "print('Enter coefficient of x%c value: '%(d))\n",
    "a = int(input())\n",
    "b = int(input(\"Enter coefficient of x value:\\n\"))\n",
    "c = int(input(\"Enter constant value: \"))\n",
    "print('Equation = %dx%c + %dx + %d'%(a,d,b,c))\n",
    "d= (b*b)-(4*a*c)\n",
    "ans1 = (-b+(cmath.sqrt(d)))/2*a\n",
    "ans2 = (-b-(cmath.sqrt(d)))/2*a\n",
    "print(\"Answer 1: \",ans1)\n",
    "print(\"Answer 2: \",ans2)"
   ]
  },
  {
   "cell_type": "code",
   "execution_count": 1,
   "metadata": {},
   "outputs": [
    {
     "name": "stdout",
     "output_type": "stream",
     "text": [
      "Enter Value of Perpendicular 5\n",
      "Enter Value of Base 3\n",
      "Enter Value of Hypotenese 4\n",
      "25 = 25\n",
      "Satisfies the pythgoras theorm\n"
     ]
    }
   ],
   "source": [
    "#PYTHAGORAS THEORM\n",
    "import math\n",
    "per = int(input(\"Enter Value of Perpendicular \"))\n",
    "base = int(input(\"Enter Value of Base \"))\n",
    "hyp = int(input(\"Enter Value of Hypotenese \"))\n",
    "p = int(math.pow(per,2))\n",
    "b = int(math.pow(base,2))\n",
    "h = int(math.pow(hyp,2))\n",
    "bh = b+h\n",
    "print(p,\"=\",bh)\n",
    "if p==bh:\n",
    "    print(\"Satisfies the pythgoras theorm\")\n",
    "else:\n",
    "    print(\"Does not satisfies the pythagoras theorm\")\n",
    "    \n"
   ]
  },
  {
   "cell_type": "code",
   "execution_count": 2,
   "metadata": {},
   "outputs": [
    {
     "name": "stdout",
     "output_type": "stream",
     "text": [
      "Enter Mass value: 6\n",
      "Enter Acceleration value: 7\n",
      "Mass:  6.0 kg\n",
      "Accleration:  7.0 m/s²\n",
      "Force:  42.0 N\n"
     ]
    }
   ],
   "source": [
    "#FORCE\n",
    "mass = float(input(\"Enter Mass value: \"))\n",
    "acc = float(input(\"Enter Acceleration value: \"))\n",
    "force = mass*acc\n",
    "S = 178\n",
    "print(\"Mass: \",mass,\"kg\")\n",
    "print(\"Accleration: \",acc,'m/s%c'%(S))\n",
    "print(\"Force: \",force,\"N\")"
   ]
  },
  {
   "cell_type": "code",
   "execution_count": 3,
   "metadata": {},
   "outputs": [
    {
     "name": "stdout",
     "output_type": "stream",
     "text": [
      "Enter current: 7\n",
      "Enter Voltage: 5\n",
      "Voltage:  5\n",
      "Current:  7\n",
      "Resistance:  0.7142857142857143\n",
      "Conductance:  1.4\n"
     ]
    }
   ],
   "source": [
    "#RESISTANCE AND CONDUCTANCE\n",
    "I = int(input(\"Enter current: \"))\n",
    "V = int(input(\"Enter Voltage: \"))\n",
    "R = V/I\n",
    "G = 1/R\n",
    "print(\"Voltage: \",V)\n",
    "print(\"Current: \",I)\n",
    "print(\"Resistance: \",R)\n",
    "print(\"Conductance: \",G)"
   ]
  },
  {
   "cell_type": "code",
   "execution_count": 4,
   "metadata": {},
   "outputs": [
    {
     "name": "stdout",
     "output_type": "stream",
     "text": [
      "Enter Initial velocity: 6\n",
      "Enter time in seconds: 9\n",
      "Enter Acceleration: 9\n",
      "Displacement:  418\n"
     ]
    }
   ],
   "source": [
    "#DISPLACEMENT\n",
    "vi =int(input(\"Enter Initial velocity: \"))\n",
    "t =int(input(\"Enter time in seconds: \"))\n",
    "a =int(input(\"Enter Acceleration: \"))\n",
    "s = int((vi*t)+0.5*a*t**2)\n",
    "print(\"Displacement: \",s)"
   ]
  },
  {
   "cell_type": "code",
   "execution_count": 5,
   "metadata": {},
   "outputs": [
    {
     "name": "stdout",
     "output_type": "stream",
     "text": [
      "Enter Initial velocity: 0\n",
      "Enter time in seconds: 20\n",
      "Enter Acceleration: 30\n",
      "Final Velocity:  600\n"
     ]
    }
   ],
   "source": [
    "#FINAL VELOCITY\n",
    "vi =int(input(\"Enter Initial velocity: \"))\n",
    "t =int(input(\"Enter time in seconds: \"))\n",
    "a =int(input(\"Enter Acceleration: \"))\n",
    "vf = vi+a*t\n",
    "print(\"Final Velocity: \",vf)"
   ]
  },
  {
   "cell_type": "code",
   "execution_count": 6,
   "metadata": {},
   "outputs": [
    {
     "name": "stdout",
     "output_type": "stream",
     "text": [
      "Enter temperature in Fahrenheit: 50\n",
      "Celcius:  10.0\n",
      "Enter temperature in Celcius: 60\n",
      "Fahrenheit:  140.0\n"
     ]
    }
   ],
   "source": [
    "#TEMPERATURE CONVERTER\n",
    "t1 = float(input(\"Enter temperature in Fahrenheit: \"))\n",
    "c = (t1-32)*5/9\n",
    "print(\"Celcius: \",c)\n",
    "t2 =float(input(\"Enter temperature in Celcius: \"))\n",
    "f = (t2 * 9/5)+32\n",
    "print(\"Fahrenheit: \",f)"
   ]
  },
  {
   "cell_type": "code",
   "execution_count": 7,
   "metadata": {},
   "outputs": [
    {
     "name": "stdout",
     "output_type": "stream",
     "text": [
      "Enter Current: 2\n",
      "Enter Time: 5\n",
      "Charge:  10.0\n"
     ]
    }
   ],
   "source": [
    "#FINDING CHARGE\n",
    "I = float(input(\"Enter Current: \"))\n",
    "t = float(input(\"Enter Time: \"))\n",
    "q = I*t\n",
    "print(\"Charge: \",q)"
   ]
  },
  {
   "cell_type": "code",
   "execution_count": 9,
   "metadata": {},
   "outputs": [
    {
     "name": "stdout",
     "output_type": "stream",
     "text": [
      "Enter Current: 7\n",
      "Enter Voltage: 9\n",
      "Charge:  10.0\n"
     ]
    }
   ],
   "source": [
    "#FINDING POWER\n",
    "I = float(input(\"Enter Current: \"))\n",
    "v = float(input(\"Enter Voltage: \"))\n",
    "p = I*v\n",
    "print(\"Charge: \",q)"
   ]
  },
  {
   "cell_type": "code",
   "execution_count": 10,
   "metadata": {},
   "outputs": [
    {
     "name": "stdout",
     "output_type": "stream",
     "text": [
      "Enter Limit4\n",
      "Enter value5\n",
      "Enter value8\n",
      "Enter value6\n",
      "Enter value8\n",
      "Total Parallel Resistance:  1.6216216216216215\n"
     ]
    }
   ],
   "source": [
    "#FINDING PARALLEL RESISTANCE\n",
    "res = []\n",
    "tres = 0\n",
    "ttr = 0\n",
    "l = int(input(\"Enter Limit\"))\n",
    "for i in range(l):\n",
    "    val = float(input(\"Enter value\"))\n",
    "    res.append(val)\n",
    "for i in range(l):\n",
    "    tres+=1/res[i]\n",
    "ttr=1/tres\n",
    "print(\"Total Parallel Resistance: \",ttr)"
   ]
  },
  {
   "cell_type": "code",
   "execution_count": null,
   "metadata": {},
   "outputs": [],
   "source": []
  }
 ],
 "metadata": {
  "kernelspec": {
   "display_name": "Python 3",
   "language": "python",
   "name": "python3"
  },
  "language_info": {
   "codemirror_mode": {
    "name": "ipython",
    "version": 3
   },
   "file_extension": ".py",
   "mimetype": "text/x-python",
   "name": "python",
   "nbconvert_exporter": "python",
   "pygments_lexer": "ipython3",
   "version": "3.7.1"
  }
 },
 "nbformat": 4,
 "nbformat_minor": 2
}
